{
 "cells": [
  {
   "cell_type": "code",
   "execution_count": null,
   "metadata": {},
   "outputs": [],
   "source": [
    "# Q1- answer\n",
    "\n",
    "class Vehicle:\n",
    "    def __init__(self, name_of_vehicle, max_speed, average_of_vehicle):\n",
    "        self.name_of_vehicle = name_of_vehicle\n",
    "        self.max_speed = max_speed\n",
    "        self.average_of_vehicle = average_of_vehicle\n",
    "\n"
   ]
  },
  {
   "cell_type": "code",
   "execution_count": null,
   "metadata": {},
   "outputs": [],
   "source": [
    "# Q2-Answer  taking avove vechile class\n",
    "class Car(Vehicle):\n",
    "    def seating_capacity(self, capacity):\n",
    "        return f\"The {self.name_of_vehicle} has a seating capacity of {capacity} people.\"\n"
   ]
  },
  {
   "cell_type": "code",
   "execution_count": null,
   "metadata": {},
   "outputs": [],
   "source": [
    "# Q3-Multiple inheritance is a feature in object-oriented programming\n",
    "#  where a class can inherit attributes and methods from multiple parent classes. This allows a derived class to inherit\n",
    "#  and combine the features of multiple base classes.\n",
    "class Vehicle:\n",
    "    def __init__(self, name):\n",
    "        self.name = name\n",
    "\n",
    "    def drive(self):\n",
    "        print(f\"{self.name} is being driven.\")\n",
    "\n",
    "\n",
    "class FlyingVehicle:\n",
    "    def fly(self):\n",
    "        print(\"Flying vehicle is flying.\")\n",
    "\n",
    "\n",
    "class Car(Vehicle, FlyingVehicle):\n",
    "    pass\n",
    "\n",
    "\n",
    "my_car = Car(\"Tesla\")\n",
    "my_car.drive()\n",
    "my_car.fly()\n"
   ]
  },
  {
   "cell_type": "code",
   "execution_count": null,
   "metadata": {},
   "outputs": [],
   "source": [
    "# Q4 - Answer\n",
    "# Getter and setter methods are used to access and modify the values of private attributes in a class. They provide control over how \n",
    "# the attribute is accessed and set, allowing for data validation and encapsulation.\n",
    "class Person:\n",
    "    def __init__(self, name):\n",
    "        self._name = name\n",
    "\n",
    "    def get_name(self):\n",
    "        return self._name\n",
    "\n",
    "    def set_name(self, name):\n",
    "        if isinstance(name, str):\n",
    "            self._name = name\n",
    "        else:\n",
    "            print(\"Invalid name!\")\n",
    "\n",
    "person = Person(\"John\")\n",
    "print(person.get_name())  \n",
    "\n",
    "person.set_name(\"Alice\")\n",
    "print(person.get_name()) \n",
    "\n",
    "person.set_name(123)  \n"
   ]
  },
  {
   "cell_type": "code",
   "execution_count": null,
   "metadata": {},
   "outputs": [],
   "source": [
    "# Q5- Answer\n",
    "# Method overriding occurs when a derived class defines a method with\n",
    "#  the same name as a method in its base class. \n",
    "# The derived class overrides the behavior of the base class method\n",
    "class Vehicle:\n",
    "    def drive(self):\n",
    "        print(\"Vehicle is being driven.\")\n",
    "\n",
    "\n",
    "class Car(Vehicle):\n",
    "    def drive(self):\n",
    "        print(\"Car is being driven.\")\n",
    "\n",
    "\n",
    "vehicle = Vehicle()\n",
    "vehicle.drive()  \n",
    "car = Car()\n",
    "car.drive()  \n"
   ]
  }
 ],
 "metadata": {
  "kernelspec": {
   "display_name": "Python 3",
   "language": "python",
   "name": "python3"
  },
  "language_info": {
   "codemirror_mode": {
    "name": "ipython",
    "version": 3
   },
   "file_extension": ".py",
   "mimetype": "text/x-python",
   "name": "python",
   "nbconvert_exporter": "python",
   "pygments_lexer": "ipython3",
   "version": "3.11.4"
  },
  "orig_nbformat": 4
 },
 "nbformat": 4,
 "nbformat_minor": 2
}
