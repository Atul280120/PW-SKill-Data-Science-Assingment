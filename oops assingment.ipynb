{
  "nbformat": 4,
  "nbformat_minor": 0,
  "metadata": {
    "colab": {
      "provenance": []
    },
    "kernelspec": {
      "name": "python3",
      "display_name": "Python 3"
    },
    "language_info": {
      "name": "python"
    }
  },
  "cells": [
    {
      "cell_type": "code",
      "execution_count": null,
      "metadata": {
        "id": "tXY1JnP2GT6r"
      },
      "outputs": [],
      "source": [
        "# Q1-Answer\n",
        "# In OOP, a class is a blueprint or a template that defines the attributes (data) and behaviors (methods)\n",
        "#  that objects of that class will have.\n",
        "#  It provides a way to create objects that share common characteristics and behaviors.\n",
        "\n",
        "# An object, on the other hand, is an instance of a class.\n",
        "# It represents a specific entity or instance created from the class definition.\n",
        "# Objects have their own unique data and can perform operations defined in the class.\n",
        "class Person:\n",
        "    def __init__(self, name, age):\n",
        "        self.name = name\n",
        "        self.age = age\n",
        "\n",
        "    def introduce(self):\n",
        "        print(f\"Hello, my name is {self.name} and I am {self.age} years old.\")\n",
        "\n",
        "\n",
        "person1 = Person(\"Alice\", 25)\n",
        "person2 = Person(\"Bob\", 30)\n",
        "\n",
        "\n",
        "person1.introduce()\n",
        "person2.introduce()\n"
      ]
    },
    {
      "cell_type": "code",
      "source": [
        "# Q2- Answer\n",
        "# Encapsulation: Encapsulation is the bundling of data and methods together in a class, where the class controls access to its internal data. It provides data hiding and protects the internal state of objects. It helps in achieving abstraction and maintaining the integrity of the data.\n",
        "\n",
        "# Inheritance: Inheritance is the mechanism that allows a class to inherit properties (attributes and methods) from another class. It promotes code reusability and enables the creation of specialized classes based on existing ones. It forms a hierarchy of classes where derived classes inherit characteristics from their base (parent) classes.\n",
        "\n",
        "# Polymorphism: Polymorphism allows objects of different classes to be treated as objects of a common superclass. It refers to the ability of an object to take on many forms or have multiple behaviors. Polymorphism enables the use of a single interface to represent different types of objects, improving code flexibility and extensibility.\n",
        "\n",
        "# Abstraction: Abstraction focuses on the essential features of an object or system, while hiding unnecessary details. It simplifies complex systems by providing a simplified interface. Abstraction helps in managing complexity, making code more modular, and improving code understandability and maintainability.\n"
      ],
      "metadata": {
        "id": "hFMaiveoiau3"
      },
      "execution_count": null,
      "outputs": []
    },
    {
      "cell_type": "code",
      "source": [
        "#Answer- 3\n",
        "# The __init__() function in Python is a special method (also known as a constructor)\n",
        "# that is automatically called when an object is created from a class. It is used\n",
        "# to initialize the object's attributes or perform any necessary setup actions.\n",
        "class Person:\n",
        "    def __init__(self, name, age):\n",
        "        self.name = name\n",
        "        self.age = age\n",
        "\n",
        "    def introduce(self):\n",
        "        print(f\"Hello, my name is {self.name} and I am {self.age} years old.\")\n",
        "\n",
        "person = Person(\"Alice\", 25)\n",
        "person.introduce()"
      ],
      "metadata": {
        "id": "6KtoyBOmjhmT"
      },
      "execution_count": null,
      "outputs": []
    },
    {
      "cell_type": "code",
      "source": [
        "# # Answer 4-\n",
        "# n OOP, self is a convention used to refer to the instance of a class\n",
        "# within the class itself.\n",
        "# It is a reference to the object that the method is being called on.\n",
        "class Person:\n",
        "    def __init__(self, name):\n",
        "        self.name = name\n",
        "\n",
        "    def greet(self):\n",
        "        print(f\"Hello, my name is {self.name}.\")\n",
        "\n",
        "person = Person(\"Alice\")\n",
        "person.greet()\n",
        "\n"
      ],
      "metadata": {
        "id": "PoG6tue9jvSV"
      },
      "execution_count": null,
      "outputs": []
    },
    {
      "cell_type": "code",
      "source": [
        "  # Answer 5\n",
        " # Inheritance is a fundamental concept in OOP that allows a class\n",
        "# to inherit attributes and methods from another class. It facilitates code reuse, promotes modularity,\n",
        "# and supports the creation of specialized classes based on existing ones."
      ],
      "metadata": {
        "id": "kBgq0VArkPTN"
      },
      "execution_count": null,
      "outputs": []
    },
    {
      "cell_type": "code",
      "source": [
        "# Single Inheritance: A derived class inherits attributes and methods from a single base class.\n",
        "class Vehicle:\n",
        "    def drive(self):\n",
        "        print(\"Driving a vehicle.\")\n",
        "\n",
        "\n",
        "class Car(Vehicle):\n",
        "    def accelerate(self):\n",
        "        print(\"Car is accelerating.\")\n",
        "\n",
        "car = Car()\n",
        "car.drive()  # Output: Driving a vehicle.\n",
        "car.accelerate()  # Output: Car is accelerating.\n"
      ],
      "metadata": {
        "id": "pYNRYxGtkWGI"
      },
      "execution_count": null,
      "outputs": []
    },
    {
      "cell_type": "code",
      "source": [
        "# Multiple Inheritance: A derived class inherits attributes and\n",
        "# methods from multiple base classes.\n",
        "class Animal:\n",
        "    def eat(self):\n",
        "        print(\"Animal is eating.\")\n",
        "\n",
        "\n",
        "class Flyable:\n",
        "    def fly(self):\n",
        "        print(\"Flying.\")\n",
        "\n",
        "\n",
        "class Bird(Animal, Flyable):\n",
        "    def chirp(self):\n",
        "        print(\"Bird is chirping.\")\n",
        "\n",
        "bird = Bird()\n",
        "bird.eat()  # Output: Animal is eating.\n",
        "bird.fly()  # Output: Flying.\n",
        "bird.chirp()  # Output: Bird is chirping.\n"
      ],
      "metadata": {
        "id": "ia3v9sfJkd6V"
      },
      "execution_count": null,
      "outputs": []
    },
    {
      "cell_type": "code",
      "source": [
        "# Multilevel Inheritance: A derived class inherits\n",
        "# attributes and methods from a base class, and\n",
        "# another class inherits from this derived class\n",
        "class Animal:\n",
        "    def eat(self):\n",
        "        print(\"Animal is eating.\")\n",
        "\n",
        "\n",
        "class Mammal(Animal):\n",
        "    def run(self):\n",
        "        print(\"Mammal is running.\")\n",
        "\n",
        "\n",
        "class Dog(Mammal):\n",
        "    def bark(self):\n",
        "        print(\"Dog is barking.\")\n",
        "\n",
        "dog = Dog()\n",
        "dog.eat()  # Output: Animal is eating.\n",
        "dog.run()  # Output: Mammal is running.\n",
        "dog.bark()  # Output: Dog is barking.\n"
      ],
      "metadata": {
        "id": "NZSblfk9knd7"
      },
      "execution_count": null,
      "outputs": []
    }
  ]
}