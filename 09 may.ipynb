{
 "cells": [
  {
   "cell_type": "code",
   "execution_count": 1,
   "id": "6ca34ab8-3fe1-4a3b-b533-cb220119a9c6",
   "metadata": {},
   "outputs": [],
   "source": [
    "string_variable = \"Hello, world!\"\n"
   ]
  },
  {
   "cell_type": "code",
   "execution_count": 2,
   "id": "026e1e8c-90f5-43e0-99ac-5cf1695448cd",
   "metadata": {},
   "outputs": [],
   "source": [
    "l=[1,2,3,4]\n"
   ]
  },
  {
   "cell_type": "code",
   "execution_count": 3,
   "id": "bc645c27-51db-4854-bb9f-ccbd27a75317",
   "metadata": {},
   "outputs": [],
   "source": [
    "f=2.14"
   ]
  },
  {
   "cell_type": "code",
   "execution_count": 5,
   "id": "646bc037-8162-474b-be21-1bac3b9dea20",
   "metadata": {},
   "outputs": [],
   "source": [
    "t=(1,2,30)"
   ]
  },
  {
   "cell_type": "code",
   "execution_count": 6,
   "id": "70b24b28-694a-47b4-b577-5795cfc2f767",
   "metadata": {},
   "outputs": [],
   "source": [
    "# Q2. The data types of the given variables are:\n",
    "\n",
    "# (i) var1: string\n",
    "# (ii) var2: string\n",
    "# (iii) var3: list\n",
    "# (iv) var4: float"
   ]
  },
  {
   "cell_type": "code",
   "execution_count": 8,
   "id": "f72e2a7d-9951-4c09-a43b-109cc11c5c33",
   "metadata": {},
   "outputs": [],
   "source": [
    "# Q3:\n",
    "#     i) / (Division): The division operator performs division between two operands and returns the quotient as a floating-point number.\n",
    "#     (ii) % (Modulo): The modulo operator calculates the remainder of division between two operands.\n",
    "#     (iii)// (Floor Division): The floor division operator performs division between two operands and returns the quotient as an integer, discarding the fractional part.\n",
    "#     (iv) ** (Exponentiation): The exponentiation operator raises the left operand to the power of the right operand.\n",
    "    "
   ]
  },
  {
   "cell_type": "code",
   "execution_count": 10,
   "id": "c53d1b51-f59c-41ce-b44e-96fa6c0581b2",
   "metadata": {},
   "outputs": [
    {
     "name": "stdout",
     "output_type": "stream",
     "text": [
      "1 <class 'int'>\n",
      "2 <class 'int'>\n",
      "3 <class 'int'>\n",
      "4 <class 'int'>\n",
      "5 <class 'int'>\n",
      "6 <class 'int'>\n",
      "7 <class 'int'>\n",
      "atul <class 'str'>\n",
      "krishna <class 'str'>\n",
      "nidhi <class 'str'>\n"
     ]
    }
   ],
   "source": [
    "l=[1,2,3,4,5,6,7,'atul','krishna','nidhi']\n",
    "for i in l:\n",
    "  print(i,type(i))"
   ]
  },
  {
   "cell_type": "code",
   "execution_count": 12,
   "id": "dd15ed8e-6c39-480a-bafa-8eda05716b22",
   "metadata": {},
   "outputs": [
    {
     "name": "stdout",
     "output_type": "stream",
     "text": [
      "2\n"
     ]
    }
   ],
   "source": [
    "A = 99\n",
    "B = 3\n",
    "count = 0\n",
    "\n",
    "while A % B == 0:\n",
    "    A = A // B\n",
    "    count += 1\n",
    "\n",
    "print(count)\n"
   ]
  },
  {
   "cell_type": "code",
   "execution_count": 17,
   "id": "506e1b6e-dbef-47bc-9424-b0bdbae6d153",
   "metadata": {},
   "outputs": [
    {
     "name": "stdout",
     "output_type": "stream",
     "text": [
      "1 is not divisible by 3\n",
      "2 is not divisible by 3\n",
      "3 is divisible by 3\n",
      "4 is not divisible by 3\n",
      "5 is not divisible by 3\n",
      "6 is divisible by 3\n",
      "7 is not divisible by 3\n",
      "8 is not divisible by 3\n",
      "9 is divisible by 3\n",
      "10 is not divisible by 3\n",
      "11 is not divisible by 3\n",
      "12 is divisible by 3\n",
      "13 is not divisible by 3\n",
      "14 is not divisible by 3\n",
      "15 is divisible by 3\n",
      "16 is not divisible by 3\n",
      "17 is not divisible by 3\n",
      "18 is divisible by 3\n",
      "19 is not divisible by 3\n",
      "20 is not divisible by 3\n",
      "21 is divisible by 3\n",
      "22 is not divisible by 3\n",
      "23 is not divisible by 3\n",
      "24 is divisible by 3\n",
      "25 is not divisible by 3\n"
     ]
    }
   ],
   "source": [
    "my_list = list(range(1, 26))\n",
    "\n",
    "for element in my_list:\n",
    "    if element % 3 == 0:\n",
    "        print(element, \"is divisible by 3\")\n",
    "    else:\n",
    "        print(element, \"is not divisible by 3\")\n"
   ]
  },
  {
   "cell_type": "code",
   "execution_count": 19,
   "id": "906f42df-1453-4d3c-be9c-62624ee1b83c",
   "metadata": {},
   "outputs": [
    {
     "name": "stdout",
     "output_type": "stream",
     "text": [
      "[1, 2, 3, 4, 5]\n",
      "(1, 2, 3)\n"
     ]
    }
   ],
   "source": [
    "# mutable are those object which can be changed\n",
    "# imutable are those which canot be changed for eg\n",
    "l1=[1,2,3,4]\n",
    "l2=(1,2,3)\n",
    "l1.append(5)\n",
    "print(l1)\n",
    "print(l2)\n",
    "\n",
    "# but we cant perform append in tupple\n",
    "# for string\n",
    "\n",
    "str1 = \"Hello\"\n",
    "str2 = str1\n",
    "\n",
    "str1 += \" World\"  \n",
    "\n",
    "print(str1) \n",
    "print(str2)  "
   ]
  }
 ],
 "metadata": {
  "kernelspec": {
   "display_name": "Python 3 (ipykernel)",
   "language": "python",
   "name": "python3"
  },
  "language_info": {
   "codemirror_mode": {
    "name": "ipython",
    "version": 3
   },
   "file_extension": ".py",
   "mimetype": "text/x-python",
   "name": "python",
   "nbconvert_exporter": "python",
   "pygments_lexer": "ipython3",
   "version": "3.10.8"
  }
 },
 "nbformat": 4,
 "nbformat_minor": 5
}
