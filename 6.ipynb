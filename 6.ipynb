{
 "cells": [
  {
   "cell_type": "markdown",
   "metadata": {},
   "source": [
    "answer1-\n",
    "When creating a custom exception in Python, it is recommended to derive it from the base class Exception (or one of its subclasses). The Exception class serves as the base class for all exceptions in Python, and deriving from it ensures that our custom exception inherits the behavior and attributes of the base class.\n",
    "By deriving from Exception, our custom exception can be caught and handled using the same exception-handling mechanisms that are used for built-in exceptions. It allows our custom exception to be treated as part of the standard exception hierarchy, making it consistent with other exceptions in Python. Additionally, inheriting from Exception provides useful features such as access to the exception message, traceback, and the ability to customize the exception behavior if needed"
   ]
  },
  {
   "cell_type": "code",
   "execution_count": null,
   "metadata": {},
   "outputs": [],
   "source": [
    "# answer 2-\n",
    "import builtins\n",
    "\n",
    "def print_exception_hierarchy():\n",
    "    exceptions = []\n",
    "    for name, obj in vars(builtins).items():\n",
    "        if isinstance(obj, type) and issubclass(obj, BaseException):\n",
    "            exceptions.append(obj)\n",
    "    \n",
    "    exceptions.sort(key=lambda x: x.__name__)\n",
    "    \n",
    "    for exception in exceptions:\n",
    "        print(exception.__name__)\n"
   ]
  },
  {
   "cell_type": "markdown",
   "metadata": {},
   "source": [
    "Answer 3-\n",
    "The ArithmeticError class is a subclass of the Exception class and serves as the base class for exceptions that occur during arithmetic operations. Some of the errors defined in the ArithmeticError class include"
   ]
  },
  {
   "cell_type": "code",
   "execution_count": null,
   "metadata": {},
   "outputs": [],
   "source": [
    "1-# ZeroDivisionError\n",
    "try:\n",
    "    result = 10 / 0\n",
    "except ZeroDivisionError:\n",
    "    print(\"Error: Cannot divide by zero.\")\n"
   ]
  },
  {
   "cell_type": "code",
   "execution_count": null,
   "metadata": {},
   "outputs": [],
   "source": [
    "2-# OverflowError\n",
    "import sys\n",
    "\n",
    "try:\n",
    "    large_number = sys.maxsize + 1\n",
    "    result = large_number * large_number\n",
    "except OverflowError:\n",
    "    print(\"Error: Arithmetic operation resulted in overflow.\")\n"
   ]
  },
  {
   "cell_type": "markdown",
   "metadata": {},
   "source": [
    "answer 4-\n",
    "The LookupError class is a subclass of the Exception class and serves as the base class for exceptions that occur when a key or index is not found during a lookup operation. It provides a common base for exceptions like KeyError and IndexError"
   ]
  },
  {
   "cell_type": "code",
   "execution_count": null,
   "metadata": {},
   "outputs": [],
   "source": [
    "# key error\n",
    "my_dict = {\"apple\": 1, \"banana\": 2, \"orange\": 3}\n",
    "try:\n",
    "    value = my_dict[\"grape\"]\n",
    "except KeyError:\n",
    "    print(\"Error: Key 'grape' not found in the dictionary.\")\n"
   ]
  },
  {
   "cell_type": "code",
   "execution_count": null,
   "metadata": {},
   "outputs": [],
   "source": [
    "# index Error\n",
    "my_list = [1, 2, 3]\n",
    "try:\n",
    "    value = my_list[5]\n",
    "except IndexError:\n",
    "    print(\"Error: Index out of range.\")\n"
   ]
  },
  {
   "cell_type": "markdown",
   "metadata": {},
   "source": [
    "answer 5-\n",
    "ImportError: ImportError is an exception that is raised when an import statement fails to import a module. It typically occurs when Python cannot find the module specified or encounters an error while trying to import it. This can happen due to various reasons, such as a misspelled module name, a missing or corrupted module file, or an issue with the module's dependencies."
   ]
  },
  {
   "cell_type": "code",
   "execution_count": null,
   "metadata": {},
   "outputs": [],
   "source": [
    "# ImportError\n",
    "try:\n",
    "    import non_existent_module\n",
    "except ImportError:\n",
    "    print(\"Error: Failed to import the module.\")\n"
   ]
  },
  {
   "cell_type": "markdown",
   "metadata": {},
   "source": [
    "ModuleNotFoundError: ModuleNotFoundError is a subclass of ImportError that is introduced in Python 3.6. It specifically indicates that the module being imported could not be found. It provides more precise information about the missing module, including the full module name.\n",
    "\n"
   ]
  },
  {
   "cell_type": "code",
   "execution_count": null,
   "metadata": {},
   "outputs": [],
   "source": [
    "try:\n",
    "    import non_existent_module\n",
    "except ModuleNotFoundError:\n",
    "    print(\"Error: The module 'non_existent_module' could not be found.\")\n"
   ]
  }
 ],
 "metadata": {
  "language_info": {
   "name": "python"
  },
  "orig_nbformat": 4
 },
 "nbformat": 4,
 "nbformat_minor": 2
}
