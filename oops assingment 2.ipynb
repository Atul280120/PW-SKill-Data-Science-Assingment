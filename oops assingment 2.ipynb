{
  "nbformat": 4,
  "nbformat_minor": 0,
  "metadata": {
    "colab": {
      "provenance": []
    },
    "kernelspec": {
      "name": "python3",
      "display_name": "Python 3"
    },
    "language_info": {
      "name": "python"
    }
  },
  "cells": [
    {
      "cell_type": "code",
      "source": [
        "# Q1: Abstraction in OOP:\n",
        "\n",
        "# Abstraction is a concept in object-oriented programming that focuses on providing essential\n",
        "# information while hiding unnecessary details. It allows you to represent complex systems or\n",
        "#  objects in a simplified manner by emphasizing only the relevant characteristics and behaviors.\n",
        "from abc import ABC, abstractmethod\n",
        "\n",
        "class Shape(ABC):\n",
        "    @abstractmethod\n",
        "    def calculate_area(self):\n",
        "        pass\n",
        "\n",
        "class Rectangle(Shape):\n",
        "    def __init__(self, length, width):\n",
        "        self.length = length\n",
        "        self.width = width\n",
        "\n",
        "    def calculate_area(self):\n",
        "        return self.length * self.width\n",
        "\n",
        "class Circle(Shape):\n",
        "    def __init__(self, radius):\n",
        "        self.radius = radius\n",
        "\n",
        "    def calculate_area(self):\n",
        "        return 3.14 * (self.radius ** 2)\n",
        "\n",
        "rectangle = Rectangle(4, 5)\n",
        "circle = Circle(3)\n",
        "\n",
        "print(rectangle.calculate_area())  # Output: 20\n",
        "print(circle.calculate_area())     # Output: 28.26\n"
      ],
      "metadata": {
        "id": "USPKXU88sMv6"
      },
      "execution_count": null,
      "outputs": []
    },
    {
      "cell_type": "code",
      "source": [
        "# Difference between Abstraction and Encapsulation:\n",
        "\n",
        "# Abstraction and encapsulation are related concepts in OOP, but they serve different purposes.\n",
        "\n",
        "# Abstraction:\n",
        "\n",
        "# Abstraction focuses on providing a simplified representation of an object or system by emphasizing relevant information and hiding unnecessary details.\n",
        "# It is achieved through abstract classes and interfaces that define a common structure or contract for derived classes.\n",
        "# Abstraction simplifies complex systems, improves code maintainability, and promotes code reusability.\n",
        "# Example: The Shape example from the previous answer demonstrates abstraction by defining an abstract base class Shape that provides a common interface for derived shapes.\n",
        "# Encapsulation:\n",
        "\n",
        "# Encapsulation is the bundling of data (attributes) and methods (behaviors) together within a class, and controlling access to the internal state of objects.\n",
        "# It ensures that data is accessed and modified through predefined methods (getters and setters), which provides encapsulation and data hiding.\n",
        "# Encapsulation promotes data integrity, protects the internal state of objects, and provides control over how objects are accessed and modified.\n",
        "# Example: The Person class example from an earlier answer demonstrates encapsulation by encapsulating the name attribute and providing a getter and setter method to access and modify it (get_name() and set_name()).\n",
        "# In summary, abstraction deals with providing a simplified and high-level view of an object or system, while encapsulation deals with bundling data and methods together and controlling access to the internal state of objects."
      ],
      "metadata": {
        "id": "tg9qBbT_sagW"
      },
      "execution_count": null,
      "outputs": []
    },
    {
      "cell_type": "code",
      "source": [
        "# Q3: The abc module in Python:\n",
        "# The abc (Abstract Base Classes) module in Python provides support for defining abstract base classes.\n",
        "#  Abstract base classes are classes that cannot be instantiated directly but serve as a blueprint for\n",
        "#  derived classes to inherit from and implement their methods.\n",
        "\n",
        "# The abc module provides the ABC class and the abstractmethod decorator, which are used to define abstract\n",
        "#  base classes and abstract methods, respectively. By defining abstract base classes, you can enforce\n",
        "#  the implementation of specific methods in derived classes, thus ensuring a common interface or contract."
      ],
      "metadata": {
        "id": "2QaH4BdXsltW"
      },
      "execution_count": null,
      "outputs": []
    },
    {
      "cell_type": "code",
      "source": [
        "# Q4: Achieving data abstraction:\n",
        "\n",
        "# Data abstraction is a concept in OOP that involves hiding the internal details of data and\n",
        "#  providing a simplified interface for interacting with the data.\n",
        "#  It allows you to separate the usage of data from its implementation.\n",
        "# example\n",
        "class BankAccount:\n",
        "    def __init__(self):\n",
        "        self.balance = 0\n",
        "\n",
        "    def deposit(self, amount):\n",
        "        self.balance += amount\n",
        "\n",
        "    def withdraw(self, amount):\n",
        "        if self.balance >= amount:\n",
        "            self.balance -= amount\n",
        "        else:\n",
        "            print(\"Insufficient balance.\")\n",
        "\n",
        "    def get_balance(self):\n",
        "        return self.balance\n",
        "\n",
        "account = BankAccount()\n",
        "account.deposit(1000)\n",
        "account.withdraw(500)\n",
        "print(account.get_balance())  # Output: 500\n"
      ],
      "metadata": {
        "id": "YeWh581rs0UK"
      },
      "execution_count": 1,
      "outputs": []
    },
    {
      "cell_type": "code",
      "source": [
        "# Q5: Creating an instance of an abstract class:\n",
        "\n",
        "# No, you cannot create an instance of an abstract class directly. Abstract classes are meant\n",
        "# to be used as blueprints or templates\n",
        "#  for derived classes to inherit from and provide implementations for their abstract methods.\n",
        "# example\n",
        "from abc import ABC, abstractmethod\n",
        "\n",
        "class AbstractClass(ABC):\n",
        "    @abstractmethod\n",
        "    def abstract_method(self):\n",
        "        pass\n",
        "\n",
        "# Creating an instance of an abstract class\n",
        "obj = AbstractClass()\n",
        "# Output: TypeError: Can't instantiate abstract class AbstractClass with abstract methods abstract_method\n"
      ],
      "metadata": {
        "id": "KNNF9PTKtXQK"
      },
      "execution_count": null,
      "outputs": []
    }
  ]
}