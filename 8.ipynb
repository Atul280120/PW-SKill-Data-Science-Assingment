{
 "cells": [
  {
   "cell_type": "markdown",
   "metadata": {},
   "source": [
    "Answer 1--\n",
    "Multiprocessing in Python is a module that enables the execution of multiple processes in parallel, allowing for concurrent execution and utilization of multiple CPU cores. It provides an interface for spawning processes, passing data between them, and synchronizing their execution.\n",
    "\n",
    "It is useful in follwing things\n",
    "1- imporved performance\n",
    "2- increase responsiveness\n",
    "3- better source utlization\n",
    "4-simplified programming "
   ]
  },
  {
   "cell_type": "markdown",
   "metadata": {},
   "source": [
    "Answer 2-\n",
    "Nature: Multiprocessing involves running multiple processes simultaneously, where each process has its own memory space and resources. In contrast, multithreading involves running multiple threads within a single process, and they share the same memory space and resources.\n",
    "\n",
    "Concurrency and parallelism: Multiprocessing provides true parallelism as each process runs on a separate CPU core, allowing for simultaneous execution of tasks. Multithreading achieves concurrency, but not necessarily parallelism, as threads share the same CPU core and take turns executing their tasks.\n",
    "\n",
    "Memory and data sharing: Processes in multiprocessing have separate memory spaces, which means they cannot directly share data. To share data between processes, explicit communication mechanisms like pipes, queues, or shared memory need to be used. In multithreading, threads share the same memory space, making it easier to share data through shared variables, but proper synchronization mechanisms are required to avoid data races and ensure thread safety.\n",
    "\n",
    "System overhead: Creating and managing processes in multiprocessing incurs higher overhead compared to threads in multithreading due to the need for separate memory spaces and inter-process communication.\n"
   ]
  },
  {
   "cell_type": "code",
   "execution_count": null,
   "metadata": {},
   "outputs": [],
   "source": [
    "# Answer 3-\n",
    "import multiprocessing\n",
    "\n",
    "def worker():\n",
    "\n",
    "    print(\"Child process executing\")\n",
    "\n",
    "if __name__ == \"__main__\":\n",
    "   \n",
    "    process = multiprocessing.Process(target=worker)\n",
    "\n",
    "    process.start()\n",
    "\n",
    "   \n",
    "    process.join()\n",
    "\n",
    "\n",
    "    print(\"Parent process exiting\")\n"
   ]
  },
  {
   "cell_type": "markdown",
   "metadata": {},
   "source": [
    "Answer 4-\n",
    "A multiprocessing pool in Python is a high-level abstraction provided by the multiprocessing module. It represents a pool of worker processes that can be used to parallelize the execution of a function across multiple inputs or tasks.\n",
    "\n",
    "A pool is useful when there is a need to perform a large number of similar or independent tasks, and the overhead of creating and managing individual processes is high. The pool manages a fixed number of worker processes that are reused to execute multiple tasks. This approach can save time and resources compared to creating a new process for each task."
   ]
  },
  {
   "cell_type": "code",
   "execution_count": null,
   "metadata": {},
   "outputs": [],
   "source": [
    "import multiprocessing\n",
    "\n",
    "def worker(number):\n",
    "\n",
    "    print(\"Process\", number, \"executing\")\n",
    "\n",
    "if __name__ == \"__main__\":\n",
    "    \n",
    "    pool = multiprocessing.Pool(processes=4)\n",
    "\n",
    "   \n",
    "    for i in range(4):\n",
    "        pool.apply_async(worker, args=(i,))\n",
    "\n",
    "    \n",
    "    pool.close()\n",
    "    pool.join()\n",
    "\n",
    "    print(\"All processes completed\")\n"
   ]
  }
 ],
 "metadata": {
  "language_info": {
   "name": "python"
  },
  "orig_nbformat": 4
 },
 "nbformat": 4,
 "nbformat_minor": 2
}
