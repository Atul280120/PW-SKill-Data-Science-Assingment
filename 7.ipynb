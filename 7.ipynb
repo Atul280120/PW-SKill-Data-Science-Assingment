{
 "cells": [
  {
   "cell_type": "markdown",
   "metadata": {},
   "source": [
    "Answer 1-\n",
    "Multithreading in Python refers to the concurrent execution of multiple threads within a single program. A thread is a separate flow of execution that can run concurrently with other threads. Threads allow for the parallel execution of tasks, which can improve performance and responsiveness in certain scenarios.\n",
    "n Python, the threading module is used to handle threads. It provides a high-level interface for creating and managing threads in a Python program."
   ]
  },
  {
   "cell_type": "markdown",
   "metadata": {},
   "source": [
    "Answer 2-\n",
    "The threading module is used to create and manage threads in Python. It provides various functions and methods to work with threads. Here's the explanation of the mentioned functions:\n",
    "activeCount(): This function returns the number of Thread objects currently alive. It gives the count of active threads.\n",
    "currentThread(): This function returns the current Thread object, corresponding to the caller's thread of execution.\n",
    "enumerate(): This function returns a list of all Thread objects currently alive. It returns a list of all active threads."
   ]
  },
  {
   "cell_type": "markdown",
   "metadata": {},
   "source": [
    "Answer 3-\n",
    "run(): The run() method defines the behavior of a thread when it is executed. It contains the code that will be executed by the thread.\n",
    "start(): The start() method starts the execution of a thread by calling its run() method. It creates a new thread and runs the code defined in run() concurrently.\n",
    "join(): The join() method blocks the execution of the calling thread until the thread it is called on completes its execution.\n",
    "isAlive(): The isAlive() method returns True if the thread is currently alive (i.e., it has been started and has not yet finished), and False otherwise.\n"
   ]
  },
  {
   "cell_type": "code",
   "execution_count": null,
   "metadata": {},
   "outputs": [],
   "source": [
    "# answer 4\n",
    "import threading\n",
    "\n",
    "def print_squares():\n",
    "    for i in range(1, 6):\n",
    "        print(i * i)\n",
    "\n",
    "def print_cubes():\n",
    "    for i in range(1, 6):\n",
    "        print(i * i * i)\n",
    "\n",
    "# Create the first thread\n",
    "t1 = threading-.Thread(target=print_squares)\n",
    "\n",
    "# Create the second thread\n",
    "t2 = threading.Thread(target=print_cubes)\n",
    "\n",
    "# Start both threads\n",
    "t1.start()\n",
    "t2.start()\n"
   ]
  },
  {
   "cell_type": "markdown",
   "metadata": {},
   "source": [
    "Answer 5-\n",
    "Advantages of multithreading:\n",
    "Improved performance: Multithreading can make better use of available resources by executing tasks concurrently, leading to improved overall performance.\n",
    "Responsiveness: Multithreading allows for handling multiple tasks simultaneously, making applications more responsive and interactive.\n",
    "Resource sharing: Threads can share data and resources efficiently within a process, reducing duplication and improving efficiency.\n",
    "Simplified program structure: Multithreading can simplify the design and structure of certain programs, particularly those with complex and concurrent tasks.\n",
    "\n",
    "Disadvantages of multithreading:\n",
    "\n",
    "Increased complexity: Multithreading adds complexity to the program design, as threads need to be synchronized and coordinated to avoid issues like race conditions and deadlocks.\n",
    "Debugging difficulties: Identifying and fixing issues in multithreaded programs can be challenging, as the execution order and interactions between threads can be non-deterministic.\n",
    "Overhead: Creating and managing threads incur some overhead, including memory usage and context switching. In certain cases, the overhead of managing threads may outweigh the benefits gained from parallel execution."
   ]
  },
  {
   "cell_type": "markdown",
   "metadata": {},
   "source": [
    "Answer 6-\n",
    "Deadlock: A deadlock occurs when two or more threads are blocked indefinitely, waiting for each other to release resources that they hold. It happens when a circular dependency of resource acquisition exists between the threads. As a result, none of the threads can proceed, leading to a program freeze. Deadlocks can be challenging to identify and resolve.\n",
    "\n",
    "Race condition: A race condition occurs when the behavior of a program depends on the relative timing of events or operations. It happens when multiple threads access shared data concurrently and modify it. The outcome becomes unpredictable, as the order of execution is non-deterministic. Race conditions can lead to incorrect results or program crashes. Proper synchronization techniques, such as locks or semaphores, are required to avoid race conditions and ensure data consistency.\n",
    "\n",
    "\n",
    "\n",
    "\n",
    "\n"
   ]
  }
 ],
 "metadata": {
  "language_info": {
   "name": "python"
  },
  "orig_nbformat": 4
 },
 "nbformat": 4,
 "nbformat_minor": 2
}
