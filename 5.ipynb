{
 "cells": [
  {
   "cell_type": "code",
   "execution_count": null,
   "metadata": {},
   "outputs": [],
   "source": [
    "# Answer 1-\n",
    "# In Python, an exception is an event that occurs during the execution of a program, which disrupts the normal flow of the program's instructions. \n",
    "# When an exceptional situation arises, such as an error or an unexpected condition, Python raises an exception. \n",
    "# These exceptions can be caught and handled by the program to prevent the program from terminating abruptly.\n",
    "\n",
    "# Exceptions differ from syntax errors in Python. Syntax errors occur when the code violates the language's grammar rules, resulting in a\n",
    "# failure to compile or interpret the code. On the other hand,\n",
    "# exceptions occur during the runtime of a program when an error or an unexpected condition is encountered.\n",
    "# Exceptions can be raised intentionally by the programmer or can occur due to various factors like input errors, file access problems, or network issues."
   ]
  },
  {
   "cell_type": "code",
   "execution_count": null,
   "metadata": {},
   "outputs": [],
   "source": [
    "# answer 2-\n",
    "# When an exception is not handled, it results in the termination of the program and \n",
    "# an error message is displayed to the user. The error message includes a traceback, which shows the sequence of function \n",
    "# calls that led to the exception. \n",
    "# The traceback provides information about the line of code where the exception occurred and \n",
    "# the functions or methods that were called leading up to the exception.\n",
    "try:\n",
    "    num = int(input(\"Enter a number: \"))\n",
    "    result = 100 / num\n",
    "    print(\"Result:\", result)\n",
    "except ValueError:\n",
    "    print(\"Invalid input. Please enter a valid number.\")\n"
   ]
  },
  {
   "cell_type": "code",
   "execution_count": null,
   "metadata": {},
   "outputs": [],
   "source": [
    "# answer 3\n",
    "# The try block is used to enclose the code that might raise an exception. \n",
    "# The except block is used to handle specific exceptions that occur within the try block.\n",
    "# The finally block is used to specify code that should be executed regardless of whether an exception occurred or not. \n",
    "# The raise statement is used to raise an exception manually.\n",
    "try:\n",
    "    num = int(input(\"Enter a number: \"))\n",
    "    result = 100 / num\n",
    "    print(\"Result:\", result)\n",
    "except ValueError:\n",
    "    print(\"Invalid input. Please enter a valid number.\")\n",
    "except ZeroDivisionError:\n",
    "    print(\"Cannot divide by zero.\")\n",
    "finally:\n",
    "    print(\"Execution complete.\")\n"
   ]
  },
  {
   "cell_type": "code",
   "execution_count": null,
   "metadata": {},
   "outputs": [],
   "source": [
    "# answer 4\n",
    "try:\n",
    "    num = int(input(\"Enter a number: \"))\n",
    "    result = 100 / num\n",
    "    print(\"Result:\", result)\n",
    "except ValueError:\n",
    "    print(\"Invalid input. Please enter a valid number.\")\n",
    "except ZeroDivisionError:\n",
    "    print(\"Cannot divide by zero.\")\n",
    "finally:\n",
    "    print(\"Execution complete.\")\n"
   ]
  },
  {
   "cell_type": "code",
   "execution_count": null,
   "metadata": {},
   "outputs": [],
   "source": [
    "# answer 5-\n",
    "\n",
    "# Custom exceptions, also known as user-defined exceptions, are exceptions created by the programmer to represent specific errors or exceptional situations that are not covered by the built-in exceptions provided by Python.\n",
    "# Custom exceptions allow programmers to define their own exception classes with customized behavior.\n",
    "class InvalidInputError(Exception):\n",
    "    pass\n",
    "\n",
    "def calculate_square_root(num):\n",
    "    if num < 0:\n",
    "        raise InvalidInputError(\"Input cannot be negative.\")\n",
    "    else:\n",
    "        return num ** 0.5\n",
    "\n",
    "try:\n",
    "    result = calculate_square_root(-9)\n",
    "    print(\"Square root:\", result)\n",
    "except InvalidInputError as e:\n",
    "    print(\"Error:\", str(e))\n"
   ]
  }
 ],
 "metadata": {
  "language_info": {
   "name": "python"
  },
  "orig_nbformat": 4
 },
 "nbformat": 4,
 "nbformat_minor": 2
}
